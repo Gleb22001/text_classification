{
 "cells": [
  {
   "cell_type": "code",
   "execution_count": 1,
   "id": "1496ff90",
   "metadata": {},
   "outputs": [],
   "source": [
    "import pandas as pd\n",
    "import numpy as np\n",
    "import matplotlib\n",
    "import matplotlib.pyplot as plt"
   ]
  },
  {
   "cell_type": "code",
   "execution_count": 2,
   "id": "85597e8e",
   "metadata": {},
   "outputs": [],
   "source": [
    "train=pd.read_csv(\"train.csv\")\n",
    "test=pd.read_csv(\"test.csv\")"
   ]
  },
  {
   "cell_type": "code",
   "execution_count": 3,
   "id": "c386717e",
   "metadata": {},
   "outputs": [
    {
     "data": {
      "image/png": "[encoded data removed]",
      "text/plain": [
       "<Figure size 1152x360 with 1 Axes>"
      ]
     },
     "metadata": {
      "needs_background": "light"
     },
     "output_type": "display_data"
    }
   ],
   "source": [
    "train['sentiment'].value_counts(1).sort_index().plot(\n",
    "    kind='bar', figsize=(16, 5), color='violet', alpha=0.5, label='train'\n",
    ");\n",
    "plt.legend(fontsize=15);"
   ]
  },
  {
   "cell_type": "markdown",
   "id": "85d2fd08",
   "metadata": {},
   "source": [
    "# Предобработка текста"
   ]
  },
  {
   "cell_type": "code",
   "execution_count": 6,
   "id": "32a448b6",
   "metadata": {},
   "outputs": [],
   "source": [
    "import re\n",
    "from pymystem3 import Mystem\n",
    "from pymorphy2 import MorphAnalyzer\n",
    "from tqdm.notebook import tqdm"
   ]
  },
  {
   "cell_type": "code",
   "execution_count": 7,
   "id": "1e4ef755",
   "metadata": {},
   "outputs": [
    {
     "data": {
      "application/vnd.jupyter.widget-view+json": {
       "model_id": "a19a97a58df541f587df0ce5f562c3d1",
       "version_major": 2,
       "version_minor": 0
      },
      "text/plain": [
       "  0%|          | 0/12500 [00:00<?, ?it/s]"
      ]
     },
     "metadata": {},
     "output_type": "display_data"
    },
    {
     "name": "stdout",
     "output_type": "stream",
     "text": [
      "Не удалось сохранить в C:/Users/123/Desktop/avito_train_lemmatized_210k.json\n",
      "name 'json' is not defined\n",
      "\n"
     ]
    }
   ],
   "source": [
    "#Лемматизация\n",
    "morph = MorphAnalyzer()\n",
    "test_lemmatized_descriptions = []\n",
    "for i, description in tqdm(enumerate(test['review'].values), total=len(test)):\n",
    "    try:\n",
    "        lemmatized_description = [\n",
    "            morph.parse(token)[0].normal_form for token in \n",
    "            re.findall(r'\\w+', description)\n",
    "        ]\n",
    "        test_lemmatized_descriptions.append(lemmatized_description)\n",
    "    except Exception as e:\n",
    "        print(f'Не удалось распарсить description с индексом={i}:')\n",
    "        print(\"descrition:\")\n",
    "        print(description, end='\\n\\n')\n",
    "        print(e, end='\\n\\n')\n",
    "        test_lemmatized_descriptions.append([])\n",
    "    \n",
    "test['lemmatized_descriptions'] = test_lemmatized_descriptions\n",
    "try:\n",
    "    json.dump(\n",
    "        test_lemmatized_descriptions, \n",
    "        open('C:/Users/123/Desktop/avito_train_lemmatized_210k.json', mode='w', encoding='utf-8'), \n",
    "        ensure_ascii=False, \n",
    "        indent=2\n",
    "    )\n",
    "except Exception as e:\n",
    "    print(\"Не удалось сохранить в C:/Users/123/Desktop/avito_train_lemmatized_210k.json\")\n",
    "    print(e, end='\\n\\n')"
   ]
  },
  {
   "cell_type": "code",
   "execution_count": 10,
   "id": "b2e97b4f",
   "metadata": {},
   "outputs": [
    {
     "name": "stderr",
     "output_type": "stream",
     "text": [
      "<ipython-input-10-d69e8facee95>:10: SettingWithCopyWarning: \n",
      "A value is trying to be set on a copy of a slice from a DataFrame\n",
      "\n",
      "See the caveats in the documentation: https://pandas.pydata.org/pandas-docs/stable/user_guide/indexing.html#returning-a-view-versus-a-copy\n",
      "  test['text'][i]=' '.join(test.lemmatized_descriptions[i])\n",
      "C:\\Users\\123\\anaconda3\\lib\\site-packages\\pandas\\core\\indexing.py:1637: SettingWithCopyWarning: \n",
      "A value is trying to be set on a copy of a slice from a DataFrame\n",
      "\n",
      "See the caveats in the documentation: https://pandas.pydata.org/pandas-docs/stable/user_guide/indexing.html#returning-a-view-versus-a-copy\n",
      "  self._setitem_single_block(indexer, value, name)\n"
     ]
    }
   ],
   "source": [
    "# Делаем просто текст из лемматизированного списка\n",
    "\n",
    "xs = test.lemmatized_descriptions[1]\n",
    "s = ' '.join(xs)\n",
    "\n",
    "test['text']=0\n",
    "\n",
    "\n",
    "for i in range(len(test.lemmatized_descriptions)):\n",
    "    test['text'][i]=' '.join(test.lemmatized_descriptions[i])"
   ]
  },
  {
   "cell_type": "code",
   "execution_count": 11,
   "id": "9d44ba30",
   "metadata": {},
   "outputs": [
    {
     "data": {
      "text/html": [
       "<div>\n",
       "<style scoped>\n",
       "    .dataframe tbody tr th:only-of-type {\n",
       "        vertical-align: middle;\n",
       "    }\n",
       "\n",
       "    .dataframe tbody tr th {\n",
       "        vertical-align: top;\n",
       "    }\n",
       "\n",
       "    .dataframe thead th {\n",
       "        text-align: right;\n",
       "    }\n",
       "</style>\n",
       "<table border=\"1\" class=\"dataframe\">\n",
       "  <thead>\n",
       "    <tr style=\"text-align: right;\">\n",
       "      <th></th>\n",
       "      <th>id</th>\n",
       "      <th>review</th>\n",
       "      <th>lemmatized_descriptions</th>\n",
       "      <th>text</th>\n",
       "    </tr>\n",
       "  </thead>\n",
       "  <tbody>\n",
       "    <tr>\n",
       "      <th>0</th>\n",
       "      <td>d7593a4a9f7bade74d17667e488a6f3e</td>\n",
       "      <td>I read that \\There's a Girl in My Soup\\\" came ...</td>\n",
       "      <td>[i, read, that, there, s, a, girl, in, my, sou...</td>\n",
       "      <td>i read that there s a girl in my soup came out...</td>\n",
       "    </tr>\n",
       "    <tr>\n",
       "      <th>1</th>\n",
       "      <td>2294e3b907d750dcc32c35be503da86a</td>\n",
       "      <td>This film pulls you in from the get-go because...</td>\n",
       "      <td>[this, film, pulls, you, in, from, the, get, g...</td>\n",
       "      <td>this film pulls you in from the get go because...</td>\n",
       "    </tr>\n",
       "    <tr>\n",
       "      <th>2</th>\n",
       "      <td>43acdaff0a72ab9a365104db9b163f2e</td>\n",
       "      <td>From the awful death scenes to guns that fire ...</td>\n",
       "      <td>[from, the, awful, death, scenes, to, guns, th...</td>\n",
       "      <td>from the awful death scenes to guns that fire ...</td>\n",
       "    </tr>\n",
       "    <tr>\n",
       "      <th>3</th>\n",
       "      <td>0b061ac5f9c62e45fe922ee28819b73b</td>\n",
       "      <td>I saw that movie few days ago. This movie is s...</td>\n",
       "      <td>[i, saw, that, movie, few, days, ago, this, mo...</td>\n",
       "      <td>i saw that movie few days ago this movie is so...</td>\n",
       "    </tr>\n",
       "    <tr>\n",
       "      <th>4</th>\n",
       "      <td>a80165e5617c4a46a019c4424637f68e</td>\n",
       "      <td>For a film with so much promise it was disappo...</td>\n",
       "      <td>[for, a, film, with, so, much, promise, it, wa...</td>\n",
       "      <td>for a film with so much promise it was disappo...</td>\n",
       "    </tr>\n",
       "    <tr>\n",
       "      <th>...</th>\n",
       "      <td>...</td>\n",
       "      <td>...</td>\n",
       "      <td>...</td>\n",
       "      <td>...</td>\n",
       "    </tr>\n",
       "    <tr>\n",
       "      <th>12495</th>\n",
       "      <td>d6ac5f249c1a13a97342220418ade439</td>\n",
       "      <td>God, I was bored out of my head as I watched t...</td>\n",
       "      <td>[god, i, was, bored, out, of, my, head, as, i,...</td>\n",
       "      <td>god i was bored out of my head as i watched th...</td>\n",
       "    </tr>\n",
       "    <tr>\n",
       "      <th>12496</th>\n",
       "      <td>61463dea9e55fd50b8a66fea98d91a03</td>\n",
       "      <td>This typical Mamet film delivers a quiet, even...</td>\n",
       "      <td>[this, typical, mamet, film, delivers, a, quie...</td>\n",
       "      <td>this typical mamet film delivers a quiet evenl...</td>\n",
       "    </tr>\n",
       "    <tr>\n",
       "      <th>12497</th>\n",
       "      <td>bd7627d4598394d0e3f4ec740425ca0a</td>\n",
       "      <td>What a good film! Made Men is a great action m...</td>\n",
       "      <td>[what, a, good, film, made, men, is, a, great,...</td>\n",
       "      <td>what a good film made men is a great action mo...</td>\n",
       "    </tr>\n",
       "    <tr>\n",
       "      <th>12498</th>\n",
       "      <td>f10bf1a9318064af1229d0717ffba33c</td>\n",
       "      <td>\\The Secretary\\\" is one of those cheesy, clich...</td>\n",
       "      <td>[the, secretary, is, one, of, those, cheesy, c...</td>\n",
       "      <td>the secretary is one of those cheesy cliched t...</td>\n",
       "    </tr>\n",
       "    <tr>\n",
       "      <th>12499</th>\n",
       "      <td>783184482c3e4117978c88d507c467ce</td>\n",
       "      <td>Your average garden variety psychotic nutcase ...</td>\n",
       "      <td>[your, average, garden, variety, psychotic, nu...</td>\n",
       "      <td>your average garden variety psychotic nutcase ...</td>\n",
       "    </tr>\n",
       "  </tbody>\n",
       "</table>\n",
       "<p>12500 rows × 4 columns</p>\n",
       "</div>"
      ],
      "text/plain": [
       "                                     id  \\\n",
       "0      d7593a4a9f7bade74d17667e488a6f3e   \n",
       "1      2294e3b907d750dcc32c35be503da86a   \n",
       "2      43acdaff0a72ab9a365104db9b163f2e   \n",
       "3      0b061ac5f9c62e45fe922ee28819b73b   \n",
       "4      a80165e5617c4a46a019c4424637f68e   \n",
       "...                                 ...   \n",
       "12495  d6ac5f249c1a13a97342220418ade439   \n",
       "12496  61463dea9e55fd50b8a66fea98d91a03   \n",
       "12497  bd7627d4598394d0e3f4ec740425ca0a   \n",
       "12498  f10bf1a9318064af1229d0717ffba33c   \n",
       "12499  783184482c3e4117978c88d507c467ce   \n",
       "\n",
       "                                                  review  \\\n",
       "0      I read that \\There's a Girl in My Soup\\\" came ...   \n",
       "1      This film pulls you in from the get-go because...   \n",
       "2      From the awful death scenes to guns that fire ...   \n",
       "3      I saw that movie few days ago. This movie is s...   \n",
       "4      For a film with so much promise it was disappo...   \n",
       "...                                                  ...   \n",
       "12495  God, I was bored out of my head as I watched t...   \n",
       "12496  This typical Mamet film delivers a quiet, even...   \n",
       "12497  What a good film! Made Men is a great action m...   \n",
       "12498  \\The Secretary\\\" is one of those cheesy, clich...   \n",
       "12499  Your average garden variety psychotic nutcase ...   \n",
       "\n",
       "                                 lemmatized_descriptions  \\\n",
       "0      [i, read, that, there, s, a, girl, in, my, sou...   \n",
       "1      [this, film, pulls, you, in, from, the, get, g...   \n",
       "2      [from, the, awful, death, scenes, to, guns, th...   \n",
       "3      [i, saw, that, movie, few, days, ago, this, mo...   \n",
       "4      [for, a, film, with, so, much, promise, it, wa...   \n",
       "...                                                  ...   \n",
       "12495  [god, i, was, bored, out, of, my, head, as, i,...   \n",
       "12496  [this, typical, mamet, film, delivers, a, quie...   \n",
       "12497  [what, a, good, film, made, men, is, a, great,...   \n",
       "12498  [the, secretary, is, one, of, those, cheesy, c...   \n",
       "12499  [your, average, garden, variety, psychotic, nu...   \n",
       "\n",
       "                                                    text  \n",
       "0      i read that there s a girl in my soup came out...  \n",
       "1      this film pulls you in from the get go because...  \n",
       "2      from the awful death scenes to guns that fire ...  \n",
       "3      i saw that movie few days ago this movie is so...  \n",
       "4      for a film with so much promise it was disappo...  \n",
       "...                                                  ...  \n",
       "12495  god i was bored out of my head as i watched th...  \n",
       "12496  this typical mamet film delivers a quiet evenl...  \n",
       "12497  what a good film made men is a great action mo...  \n",
       "12498  the secretary is one of those cheesy cliched t...  \n",
       "12499  your average garden variety psychotic nutcase ...  \n",
       "\n",
       "[12500 rows x 4 columns]"
      ]
     },
     "execution_count": 11,
     "metadata": {},
     "output_type": "execute_result"
    }
   ],
   "source": [
    "test"
   ]
  },
  {
   "cell_type": "markdown",
   "id": "3fc10b84",
   "metadata": {},
   "source": [
    "# Модель\n",
    "\n",
    "### Использую модельку с hugging face (вроде, так можно было) https://huggingface.co/lvwerra/distilbert-imdb?text=I+like+you.+I+love+you, гениальности здесь нет("
   ]
  },
  {
   "cell_type": "code",
   "execution_count": 12,
   "id": "f7be6f78",
   "metadata": {},
   "outputs": [],
   "source": [
    "from transformers import AutoTokenizer\n",
    "from transformers import AutoModelForSequenceClassification\n",
    "from scipy.special import softmax"
   ]
  },
  {
   "cell_type": "code",
   "execution_count": 13,
   "id": "fa86c6d7",
   "metadata": {},
   "outputs": [],
   "source": [
    "MODEL = f\"lvwerra/distilbert-imdb\"\n",
    "tokenizer = AutoTokenizer.from_pretrained(MODEL)\n",
    "model = AutoModelForSequenceClassification.from_pretrained(MODEL)"
   ]
  },
  {
   "cell_type": "code",
   "execution_count": 14,
   "id": "b36a8204",
   "metadata": {},
   "outputs": [],
   "source": [
    "def polarity_scores_imdb(example):\n",
    "    encoded_text = tokenizer(example, max_length = 511, return_tensors='pt')\n",
    "    output = model(**encoded_text)\n",
    "    scores = output[0][0].detach().numpy()\n",
    "    scores = softmax(scores)\n",
    "    scores_dict = {\n",
    "        'imdb_neg' : scores[0],\n",
    "        'imdb_pos' : scores[1]\n",
    "    }\n",
    "    return scores_dict"
   ]
  },
  {
   "cell_type": "code",
   "execution_count": 15,
   "id": "7a6181fc",
   "metadata": {},
   "outputs": [
    {
     "data": {
      "application/vnd.jupyter.widget-view+json": {
       "model_id": "d5d364b69998464e8f132243076eedde",
       "version_major": 2,
       "version_minor": 0
      },
      "text/plain": [
       "  0%|          | 0/12500 [00:00<?, ?it/s]"
      ]
     },
     "metadata": {},
     "output_type": "display_data"
    },
    {
     "name": "stderr",
     "output_type": "stream",
     "text": [
      "Truncation was not explicitly activated but `max_length` is provided a specific value, please use `truncation=True` to explicitly truncate examples to max length. Defaulting to 'longest_first' truncation strategy. If you encode pairs of sequences (GLUE-style) with the tokenizer you can select this strategy more precisely by providing a specific strategy to `truncation`.\n"
     ]
    }
   ],
   "source": [
    "res_imdb = {}\n",
    "for i, row in tqdm(test.iterrows(), total=test.shape[0]):\n",
    "    try:\n",
    "        text = row['text']\n",
    "        myid = row['id']\n",
    "        imdb_result = polarity_scores_imdb(text)\n",
    "        res_imdb[myid] = imdb_result\n",
    "    except RuntimeError:\n",
    "        print(f'Broke for id {myid}')\n",
    "        res_imdb[myid] = {\n",
    "        'imdb_neg' : 0.5,\n",
    "        'imdb_pos' : 0.5\n",
    "        }"
   ]
  },
  {
   "cell_type": "code",
   "execution_count": 16,
   "id": "ba350396",
   "metadata": {},
   "outputs": [],
   "source": [
    "imdb_df = pd.DataFrame(res_imdb).T\n",
    "imdb_df = imdb_df.reset_index().rename(columns={'index': 'id'})\n",
    "imdb_df = imdb_df.merge(test, how='inner')"
   ]
  },
  {
   "cell_type": "code",
   "execution_count": 17,
   "id": "40ea5f67",
   "metadata": {},
   "outputs": [
    {
     "data": {
      "text/html": [
       "<div>\n",
       "<style scoped>\n",
       "    .dataframe tbody tr th:only-of-type {\n",
       "        vertical-align: middle;\n",
       "    }\n",
       "\n",
       "    .dataframe tbody tr th {\n",
       "        vertical-align: top;\n",
       "    }\n",
       "\n",
       "    .dataframe thead th {\n",
       "        text-align: right;\n",
       "    }\n",
       "</style>\n",
       "<table border=\"1\" class=\"dataframe\">\n",
       "  <thead>\n",
       "    <tr style=\"text-align: right;\">\n",
       "      <th></th>\n",
       "      <th>id</th>\n",
       "      <th>imdb_neg</th>\n",
       "      <th>imdb_pos</th>\n",
       "      <th>review</th>\n",
       "      <th>lemmatized_descriptions</th>\n",
       "      <th>text</th>\n",
       "    </tr>\n",
       "  </thead>\n",
       "  <tbody>\n",
       "    <tr>\n",
       "      <th>0</th>\n",
       "      <td>d7593a4a9f7bade74d17667e488a6f3e</td>\n",
       "      <td>0.994426</td>\n",
       "      <td>0.005574</td>\n",
       "      <td>I read that \\There's a Girl in My Soup\\\" came ...</td>\n",
       "      <td>[i, read, that, there, s, a, girl, in, my, sou...</td>\n",
       "      <td>i read that there s a girl in my soup came out...</td>\n",
       "    </tr>\n",
       "    <tr>\n",
       "      <th>1</th>\n",
       "      <td>2294e3b907d750dcc32c35be503da86a</td>\n",
       "      <td>0.057634</td>\n",
       "      <td>0.942366</td>\n",
       "      <td>This film pulls you in from the get-go because...</td>\n",
       "      <td>[this, film, pulls, you, in, from, the, get, g...</td>\n",
       "      <td>this film pulls you in from the get go because...</td>\n",
       "    </tr>\n",
       "    <tr>\n",
       "      <th>2</th>\n",
       "      <td>43acdaff0a72ab9a365104db9b163f2e</td>\n",
       "      <td>0.992838</td>\n",
       "      <td>0.007162</td>\n",
       "      <td>From the awful death scenes to guns that fire ...</td>\n",
       "      <td>[from, the, awful, death, scenes, to, guns, th...</td>\n",
       "      <td>from the awful death scenes to guns that fire ...</td>\n",
       "    </tr>\n",
       "    <tr>\n",
       "      <th>3</th>\n",
       "      <td>0b061ac5f9c62e45fe922ee28819b73b</td>\n",
       "      <td>0.007275</td>\n",
       "      <td>0.992725</td>\n",
       "      <td>I saw that movie few days ago. This movie is s...</td>\n",
       "      <td>[i, saw, that, movie, few, days, ago, this, mo...</td>\n",
       "      <td>i saw that movie few days ago this movie is so...</td>\n",
       "    </tr>\n",
       "    <tr>\n",
       "      <th>4</th>\n",
       "      <td>a80165e5617c4a46a019c4424637f68e</td>\n",
       "      <td>0.996396</td>\n",
       "      <td>0.003604</td>\n",
       "      <td>For a film with so much promise it was disappo...</td>\n",
       "      <td>[for, a, film, with, so, much, promise, it, wa...</td>\n",
       "      <td>for a film with so much promise it was disappo...</td>\n",
       "    </tr>\n",
       "    <tr>\n",
       "      <th>...</th>\n",
       "      <td>...</td>\n",
       "      <td>...</td>\n",
       "      <td>...</td>\n",
       "      <td>...</td>\n",
       "      <td>...</td>\n",
       "      <td>...</td>\n",
       "    </tr>\n",
       "    <tr>\n",
       "      <th>12495</th>\n",
       "      <td>d6ac5f249c1a13a97342220418ade439</td>\n",
       "      <td>0.993368</td>\n",
       "      <td>0.006632</td>\n",
       "      <td>God, I was bored out of my head as I watched t...</td>\n",
       "      <td>[god, i, was, bored, out, of, my, head, as, i,...</td>\n",
       "      <td>god i was bored out of my head as i watched th...</td>\n",
       "    </tr>\n",
       "    <tr>\n",
       "      <th>12496</th>\n",
       "      <td>61463dea9e55fd50b8a66fea98d91a03</td>\n",
       "      <td>0.004941</td>\n",
       "      <td>0.995059</td>\n",
       "      <td>This typical Mamet film delivers a quiet, even...</td>\n",
       "      <td>[this, typical, mamet, film, delivers, a, quie...</td>\n",
       "      <td>this typical mamet film delivers a quiet evenl...</td>\n",
       "    </tr>\n",
       "    <tr>\n",
       "      <th>12497</th>\n",
       "      <td>bd7627d4598394d0e3f4ec740425ca0a</td>\n",
       "      <td>0.006521</td>\n",
       "      <td>0.993479</td>\n",
       "      <td>What a good film! Made Men is a great action m...</td>\n",
       "      <td>[what, a, good, film, made, men, is, a, great,...</td>\n",
       "      <td>what a good film made men is a great action mo...</td>\n",
       "    </tr>\n",
       "    <tr>\n",
       "      <th>12498</th>\n",
       "      <td>f10bf1a9318064af1229d0717ffba33c</td>\n",
       "      <td>0.945801</td>\n",
       "      <td>0.054199</td>\n",
       "      <td>\\The Secretary\\\" is one of those cheesy, clich...</td>\n",
       "      <td>[the, secretary, is, one, of, those, cheesy, c...</td>\n",
       "      <td>the secretary is one of those cheesy cliched t...</td>\n",
       "    </tr>\n",
       "    <tr>\n",
       "      <th>12499</th>\n",
       "      <td>783184482c3e4117978c88d507c467ce</td>\n",
       "      <td>0.638218</td>\n",
       "      <td>0.361782</td>\n",
       "      <td>Your average garden variety psychotic nutcase ...</td>\n",
       "      <td>[your, average, garden, variety, psychotic, nu...</td>\n",
       "      <td>your average garden variety psychotic nutcase ...</td>\n",
       "    </tr>\n",
       "  </tbody>\n",
       "</table>\n",
       "<p>12500 rows × 6 columns</p>\n",
       "</div>"
      ],
      "text/plain": [
       "                                     id  imdb_neg  imdb_pos  \\\n",
       "0      d7593a4a9f7bade74d17667e488a6f3e  0.994426  0.005574   \n",
       "1      2294e3b907d750dcc32c35be503da86a  0.057634  0.942366   \n",
       "2      43acdaff0a72ab9a365104db9b163f2e  0.992838  0.007162   \n",
       "3      0b061ac5f9c62e45fe922ee28819b73b  0.007275  0.992725   \n",
       "4      a80165e5617c4a46a019c4424637f68e  0.996396  0.003604   \n",
       "...                                 ...       ...       ...   \n",
       "12495  d6ac5f249c1a13a97342220418ade439  0.993368  0.006632   \n",
       "12496  61463dea9e55fd50b8a66fea98d91a03  0.004941  0.995059   \n",
       "12497  bd7627d4598394d0e3f4ec740425ca0a  0.006521  0.993479   \n",
       "12498  f10bf1a9318064af1229d0717ffba33c  0.945801  0.054199   \n",
       "12499  783184482c3e4117978c88d507c467ce  0.638218  0.361782   \n",
       "\n",
       "                                                  review  \\\n",
       "0      I read that \\There's a Girl in My Soup\\\" came ...   \n",
       "1      This film pulls you in from the get-go because...   \n",
       "2      From the awful death scenes to guns that fire ...   \n",
       "3      I saw that movie few days ago. This movie is s...   \n",
       "4      For a film with so much promise it was disappo...   \n",
       "...                                                  ...   \n",
       "12495  God, I was bored out of my head as I watched t...   \n",
       "12496  This typical Mamet film delivers a quiet, even...   \n",
       "12497  What a good film! Made Men is a great action m...   \n",
       "12498  \\The Secretary\\\" is one of those cheesy, clich...   \n",
       "12499  Your average garden variety psychotic nutcase ...   \n",
       "\n",
       "                                 lemmatized_descriptions  \\\n",
       "0      [i, read, that, there, s, a, girl, in, my, sou...   \n",
       "1      [this, film, pulls, you, in, from, the, get, g...   \n",
       "2      [from, the, awful, death, scenes, to, guns, th...   \n",
       "3      [i, saw, that, movie, few, days, ago, this, mo...   \n",
       "4      [for, a, film, with, so, much, promise, it, wa...   \n",
       "...                                                  ...   \n",
       "12495  [god, i, was, bored, out, of, my, head, as, i,...   \n",
       "12496  [this, typical, mamet, film, delivers, a, quie...   \n",
       "12497  [what, a, good, film, made, men, is, a, great,...   \n",
       "12498  [the, secretary, is, one, of, those, cheesy, c...   \n",
       "12499  [your, average, garden, variety, psychotic, nu...   \n",
       "\n",
       "                                                    text  \n",
       "0      i read that there s a girl in my soup came out...  \n",
       "1      this film pulls you in from the get go because...  \n",
       "2      from the awful death scenes to guns that fire ...  \n",
       "3      i saw that movie few days ago this movie is so...  \n",
       "4      for a film with so much promise it was disappo...  \n",
       "...                                                  ...  \n",
       "12495  god i was bored out of my head as i watched th...  \n",
       "12496  this typical mamet film delivers a quiet evenl...  \n",
       "12497  what a good film made men is a great action mo...  \n",
       "12498  the secretary is one of those cheesy cliched t...  \n",
       "12499  your average garden variety psychotic nutcase ...  \n",
       "\n",
       "[12500 rows x 6 columns]"
      ]
     },
     "execution_count": 17,
     "metadata": {},
     "output_type": "execute_result"
    }
   ],
   "source": [
    "imdb_df"
   ]
  },
  {
   "cell_type": "code",
   "execution_count": null,
   "id": "885755a0",
   "metadata": {},
   "outputs": [],
   "source": [
    "submission = pd.DataFrame()\n",
    "submission[\"id\"] = imdb_df[\"id\"]\n",
    "submission[\"review\"] = imdb_df['imdb_pos']\n",
    "\n",
    "submission.head()"
   ]
  },
  {
   "cell_type": "code",
   "execution_count": null,
   "id": "e6290946",
   "metadata": {},
   "outputs": [],
   "source": [
    "submission.to_csv('submission.csv', index=False)"
   ]
  }
 ],
 "metadata": {
  "kernelspec": {
   "display_name": "Python 3",
   "language": "python",
   "name": "python3"
  },
  "language_info": {
   "codemirror_mode": {
    "name": "ipython",
    "version": 3
   },
   "file_extension": ".py",
   "mimetype": "text/x-python",
   "name": "python",
   "nbconvert_exporter": "python",
   "pygments_lexer": "ipython3",
   "version": "3.8.8"
  }
 },
 "nbformat": 4,
 "nbformat_minor": 5
}
